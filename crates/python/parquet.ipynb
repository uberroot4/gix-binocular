{
 "cells": [
  {
   "cell_type": "code",
   "execution_count": 1,
   "metadata": {},
   "outputs": [
    {
     "name": "stdout",
     "output_type": "stream",
     "text": [
      "Requirement already satisfied: pip in /Users/rise/Repositories/se-analytics/gix-test/crates/pyo3-bindings/.venv/lib/python3.13/site-packages (25.0)\n",
      "Collecting pip\n",
      "  Downloading pip-25.0.1-py3-none-any.whl.metadata (3.7 kB)\n",
      "Downloading pip-25.0.1-py3-none-any.whl (1.8 MB)\n",
      "\u001b[2K   \u001b[90m━━━━━━━━━━━━━━━━━━━━━━━━━━━━━━━━━━━━━━━━\u001b[0m \u001b[32m1.8/1.8 MB\u001b[0m \u001b[31m8.4 MB/s\u001b[0m eta \u001b[36m0:00:00\u001b[0m:00:01\u001b[0m\n",
      "\u001b[?25hInstalling collected packages: pip\n",
      "  Attempting uninstall: pip\n",
      "    Found existing installation: pip 25.0\n",
      "    Uninstalling pip-25.0:\n",
      "      Successfully uninstalled pip-25.0\n",
      "Successfully installed pip-25.0.1\n",
      "Note: you may need to restart the kernel to use updated packages.\n",
      "Collecting polars\n",
      "  Downloading polars-1.23.0-cp39-abi3-macosx_10_12_x86_64.whl.metadata (14 kB)\n",
      "Downloading polars-1.23.0-cp39-abi3-macosx_10_12_x86_64.whl (33.7 MB)\n",
      "\u001b[2K   \u001b[90m━━━━━━━━━━━━━━━━━━━━━━━━━━━━━━━━━━━━━━━━\u001b[0m \u001b[32m33.7/33.7 MB\u001b[0m \u001b[31m4.0 MB/s\u001b[0m eta \u001b[36m0:00:00\u001b[0m00:01\u001b[0m00:01\u001b[0m\n",
      "\u001b[?25hInstalling collected packages: polars\n",
      "Successfully installed polars-1.23.0\n"
     ]
    }
   ],
   "source": [
    "%pip install --upgrade pip\n",
    "!pip3 install polars"
   ]
  },
  {
   "cell_type": "code",
   "execution_count": 2,
   "metadata": {},
   "outputs": [],
   "source": [
    "import polars as pl"
   ]
  },
  {
   "cell_type": "code",
   "execution_count": 5,
   "metadata": {},
   "outputs": [
    {
     "data": {
      "text/html": [
       "<i>naive plan: (run <b>LazyFrame.explain(optimized=True)</b> to see the optimized plan)</i>\n",
       "    <p></p>\n",
       "    <div>Parquet SCAN [../../data/commits.parquet]<p></p>PROJECT */10 COLUMNS</div>"
      ],
      "text/plain": [
       "<LazyFrame at 0x10D3BA990>"
      ]
     },
     "execution_count": 5,
     "metadata": {},
     "output_type": "execute_result"
    }
   ],
   "source": [
    "df = pl.scan_parquet(\"../../data/commits.parquet\")\n",
    "df"
   ]
  },
  {
   "cell_type": "code",
   "execution_count": 11,
   "metadata": {},
   "outputs": [
    {
     "name": "stderr",
     "output_type": "stream",
     "text": [
      "/var/folders/3b/kmz412j17b5c7z57yc6k1jmm0000gn/T/ipykernel_11789/3289350417.py:1: PerformanceWarning: Determining the column names of a LazyFrame requires resolving its schema, which is a potentially expensive operation. Use `LazyFrame.collect_schema().names()` to get the column names without this warning.\n",
      "  df.columns\n"
     ]
    },
    {
     "data": {
      "text/plain": [
       "['commit',\n",
       " 'message',\n",
       " 'branch',\n",
       " 'committer_name',\n",
       " 'committer_email',\n",
       " 'commit_dt',\n",
       " 'author_name',\n",
       " 'author_email',\n",
       " 'author_dt',\n",
       " 'parents']"
      ]
     },
     "execution_count": 11,
     "metadata": {},
     "output_type": "execute_result"
    }
   ],
   "source": [
    "df.columns"
   ]
  },
  {
   "cell_type": "code",
   "execution_count": 9,
   "metadata": {},
   "outputs": [
    {
     "data": {
      "text/html": [
       "<div><style>\n",
       ".dataframe > thead > tr,\n",
       ".dataframe > tbody > tr {\n",
       "  text-align: right;\n",
       "  white-space: pre-wrap;\n",
       "}\n",
       "</style>\n",
       "<small>shape: (1, 1)</small><table border=\"1\" class=\"dataframe\"><thead><tr><th>n_unique</th></tr><tr><td>u32</td></tr></thead><tbody><tr><td>1724</td></tr></tbody></table></div>"
      ],
      "text/plain": [
       "shape: (1, 1)\n",
       "┌──────────┐\n",
       "│ n_unique │\n",
       "│ ---      │\n",
       "│ u32      │\n",
       "╞══════════╡\n",
       "│ 1724     │\n",
       "└──────────┘"
      ]
     },
     "execution_count": 9,
     "metadata": {},
     "output_type": "execute_result"
    }
   ],
   "source": [
    "result = df.select(\n",
    "    pl.col(\"commit\").n_unique().alias(\"n_unique\"),\n",
    ")\n",
    "result.collect()"
   ]
  },
  {
   "cell_type": "code",
   "execution_count": 24,
   "metadata": {},
   "outputs": [
    {
     "data": {
      "text/plain": [
       "<bound method DataFrame.count of shape: (184, 2)\n",
       "┌─────────────────────────────────┬─────────────────────────────────┐\n",
       "│ commit                          ┆ parents                         │\n",
       "│ ---                             ┆ ---                             │\n",
       "│ str                             ┆ list[str]                       │\n",
       "╞═════════════════════════════════╪═════════════════════════════════╡\n",
       "│ 9c2821d6f04d24b7b6358779acb461… ┆ [\"11cc3375e0f3df846f5e02785567… │\n",
       "│ 11cc3375e0f3df846f5e02785567ed… ┆ [\"b643e616095f1f303bb809a0227f… │\n",
       "│ 6cdfd9294d374a69e233e2aa14a41c… ┆ [\"a50bf95e13e1d036720839504390… │\n",
       "│ b643e616095f1f303bb809a0227f28… ┆ [\"d7cffcabe06fa2b2a854598a7af2… │\n",
       "│ a50bf95e13e1d03672083950439041… ┆ [\"476871addc4a085077a460933881… │\n",
       "│ …                               ┆ …                               │\n",
       "│ 5df9582b937395b2d1c40d3ce05486… ┆ [\"fec41a6fc3e72606a707201479fe… │\n",
       "│ 59403507ca8e2c324dda6a96f056f0… ┆ [\"a3816559b93e73b589326643bbb5… │\n",
       "│ feb52b2f9c49209fd45815605890ec… ┆ [\"890ebacaf184ec84db501c65077d… │\n",
       "│ 2a9510a21fc7d2853f2f5739a7c43e… ┆ [\"7eaf5694caed1050cdd69842f49d… │\n",
       "│ 7eaf5694caed1050cdd69842f49d89… ┆ [\"e45e671870465b25cf4f1606c74b… │\n",
       "└─────────────────────────────────┴─────────────────────────────────┘>"
      ]
     },
     "execution_count": 24,
     "metadata": {},
     "output_type": "execute_result"
    }
   ],
   "source": [
    "result = df.select(\n",
    "    pl.col(\"commit\"),\n",
    "    pl.col(\"parents\")\n",
    ").filter(pl.col(\"parents\").list.len() > 1)\n",
    "result.collect().count"
   ]
  },
  {
   "cell_type": "code",
   "execution_count": 31,
   "metadata": {},
   "outputs": [
    {
     "data": {
      "text/plain": [
       "<bound method DataFrame.count of shape: (1_539, 2)\n",
       "┌─────────────────────────────────┬─────────────────────────────────┐\n",
       "│ commit                          ┆ parents                         │\n",
       "│ ---                             ┆ ---                             │\n",
       "│ str                             ┆ list[str]                       │\n",
       "╞═════════════════════════════════╪═════════════════════════════════╡\n",
       "│ 9033b77b421711345f0da471ee5799… ┆ [\"6c259676c6afa339a308ffa16f8f… │\n",
       "│ 4980b87058ac407e55ff753c9a9cca… ┆ [\"476871addc4a085077a460933881… │\n",
       "│ 6c259676c6afa339a308ffa16f8f8f… ┆ [\"293e134b0846ad77601d018b42e0… │\n",
       "│ 3386a93ccaeccd8841c813b09c6f6d… ┆ [\"d533d64c76ce33ad87e640fabdcd… │\n",
       "│ 2a32ffd397739ed866cd345592c51d… ┆ [\"f50db1a66557ab24838c0b1c510b… │\n",
       "│ …                               ┆ …                               │\n",
       "│ ebfc6e75538f0805cdd838dc7021fc… ┆ [\"cfca41d3f37db27ba91afbc96f68… │\n",
       "│ cfca41d3f37db27ba91afbc96f682b… ┆ [\"b43068d7107ad3624b7750a2fd4e… │\n",
       "│ b43068d7107ad3624b7750a2fd4e09… ┆ [\"18971ec889b887e520f152e6caa2… │\n",
       "│ 18971ec889b887e520f152e6caa23c… ┆ [\"6d0ae4cf9b88d924dba6c6508c46… │\n",
       "│ 6d0ae4cf9b88d924dba6c6508c46bb… ┆ [\"8c35e8f91becabad4e74d3a5388d… │\n",
       "└─────────────────────────────────┴─────────────────────────────────┘>"
      ]
     },
     "execution_count": 31,
     "metadata": {},
     "output_type": "execute_result"
    }
   ],
   "source": [
    "result = df.select(\n",
    "    pl.col(\"commit\"),\n",
    "    pl.col(\"parents\")\n",
    ").filter(pl.col(\"parents\").list.len() == 1)\n",
    "result.collect().count"
   ]
  },
  {
   "cell_type": "code",
   "execution_count": 32,
   "metadata": {},
   "outputs": [
    {
     "name": "stderr",
     "output_type": "stream",
     "text": [
      "/var/folders/3b/kmz412j17b5c7z57yc6k1jmm0000gn/T/ipykernel_11789/3357981949.py:2: PerformanceWarning: Determining the column names of a LazyFrame requires resolving its schema, which is a potentially expensive operation. Use `LazyFrame.collect_schema().names()` to get the column names without this warning.\n",
      "  df.columns\n"
     ]
    },
    {
     "data": {
      "text/plain": [
       "['commit', 'parent', 'filename', 'insertions', 'deletions']"
      ]
     },
     "execution_count": 32,
     "metadata": {},
     "output_type": "execute_result"
    }
   ],
   "source": [
    "df = pl.scan_parquet(\"../../data/full_diff.parquet\")\n",
    "df.columns"
   ]
  },
  {
   "cell_type": "code",
   "execution_count": 39,
   "metadata": {},
   "outputs": [
    {
     "data": {
      "text/plain": [
       "(10052, 5)"
      ]
     },
     "execution_count": 39,
     "metadata": {},
     "output_type": "execute_result"
    }
   ],
   "source": [
    "df.collect().shape"
   ]
  },
  {
   "cell_type": "code",
   "execution_count": 45,
   "metadata": {},
   "outputs": [
    {
     "data": {
      "text/html": [
       "<div><style>\n",
       ".dataframe > thead > tr,\n",
       ".dataframe > tbody > tr {\n",
       "  text-align: right;\n",
       "  white-space: pre-wrap;\n",
       "}\n",
       "</style>\n",
       "<small>shape: (1, 3)</small><table border=\"1\" class=\"dataframe\"><thead><tr><th>n_filename</th><th>n_unique_filename</th><th>n_unique_commit</th></tr><tr><td>u32</td><td>u32</td><td>u32</td></tr></thead><tbody><tr><td>10052</td><td>2285</td><td>1742</td></tr></tbody></table></div>"
      ],
      "text/plain": [
       "shape: (1, 3)\n",
       "┌────────────┬───────────────────┬─────────────────┐\n",
       "│ n_filename ┆ n_unique_filename ┆ n_unique_commit │\n",
       "│ ---        ┆ ---               ┆ ---             │\n",
       "│ u32        ┆ u32               ┆ u32             │\n",
       "╞════════════╪═══════════════════╪═════════════════╡\n",
       "│ 10052      ┆ 2285              ┆ 1742            │\n",
       "└────────────┴───────────────────┴─────────────────┘"
      ]
     },
     "execution_count": 45,
     "metadata": {},
     "output_type": "execute_result"
    }
   ],
   "source": [
    "result = df.select(\n",
    "    pl.count(\"filename\").alias(\"n_filename\"),\n",
    "    pl.col(\"filename\").n_unique().alias(\"n_unique_filename\"),\n",
    "    pl.col(\"commit\").n_unique().alias(\"n_unique_commit\"),\n",
    ")\n",
    "result.collect()"
   ]
  },
  {
   "cell_type": "code",
   "execution_count": 70,
   "metadata": {},
   "outputs": [
    {
     "data": {
      "text/html": [
       "<div><style>\n",
       ".dataframe > thead > tr,\n",
       ".dataframe > tbody > tr {\n",
       "  text-align: right;\n",
       "  white-space: pre-wrap;\n",
       "}\n",
       "</style>\n",
       "<small>shape: (2_285, 6)</small><table border=\"1\" class=\"dataframe\"><thead><tr><th>filename</th><th>n</th><th>n_commits</th><th>n_parent</th><th>total_insertions</th><th>total_deletions</th></tr><tr><td>str</td><td>u32</td><td>u32</td><td>u32</td><td>u32</td><td>u32</td></tr></thead><tbody><tr><td>&quot;package.json&quot;</td><td>183</td><td>183</td><td>174</td><td>871</td><td>596</td></tr><tr><td>&quot;package-lock.json&quot;</td><td>126</td><td>126</td><td>117</td><td>429568</td><td>476617</td></tr><tr><td>&quot;lib/models/Commit.js&quot;</td><td>98</td><td>98</td><td>98</td><td>2278</td><td>2014</td></tr><tr><td>&quot;pupil.js&quot;</td><td>93</td><td>93</td><td>92</td><td>1523</td><td>952</td></tr><tr><td>&quot;.github/workflows/docker.yml&quot;</td><td>81</td><td>81</td><td>80</td><td>433</td><td>432</td></tr><tr><td>&hellip;</td><td>&hellip;</td><td>&hellip;</td><td>&hellip;</td><td>&hellip;</td><td>&hellip;</td></tr><tr><td>&quot;binocular-frontend/src/compone…</td><td>1</td><td>1</td><td>1</td><td>0</td><td>0</td></tr><tr><td>&quot;binocular-frontend-new/src/plu…</td><td>1</td><td>1</td><td>1</td><td>30</td><td>0</td></tr><tr><td>&quot;binocular-frontend/src/visuali…</td><td>1</td><td>1</td><td>1</td><td>0</td><td>0</td></tr><tr><td>&quot;binocular-backend/cli/setup.ts&quot;</td><td>1</td><td>1</td><td>1</td><td>0</td><td>0</td></tr><tr><td>&quot;binocular-frontend/src/visuali…</td><td>1</td><td>1</td><td>1</td><td>0</td><td>0</td></tr></tbody></table></div>"
      ],
      "text/plain": [
       "shape: (2_285, 6)\n",
       "┌────────────────────────────────┬─────┬───────────┬──────────┬──────────────────┬─────────────────┐\n",
       "│ filename                       ┆ n   ┆ n_commits ┆ n_parent ┆ total_insertions ┆ total_deletions │\n",
       "│ ---                            ┆ --- ┆ ---       ┆ ---      ┆ ---              ┆ ---             │\n",
       "│ str                            ┆ u32 ┆ u32       ┆ u32      ┆ u32              ┆ u32             │\n",
       "╞════════════════════════════════╪═════╪═══════════╪══════════╪══════════════════╪═════════════════╡\n",
       "│ package.json                   ┆ 183 ┆ 183       ┆ 174      ┆ 871              ┆ 596             │\n",
       "│ package-lock.json              ┆ 126 ┆ 126       ┆ 117      ┆ 429568           ┆ 476617          │\n",
       "│ lib/models/Commit.js           ┆ 98  ┆ 98        ┆ 98       ┆ 2278             ┆ 2014            │\n",
       "│ pupil.js                       ┆ 93  ┆ 93        ┆ 92       ┆ 1523             ┆ 952             │\n",
       "│ .github/workflows/docker.yml   ┆ 81  ┆ 81        ┆ 80       ┆ 433              ┆ 432             │\n",
       "│ …                              ┆ …   ┆ …         ┆ …        ┆ …                ┆ …               │\n",
       "│ binocular-frontend/src/compone ┆ 1   ┆ 1         ┆ 1        ┆ 0                ┆ 0               │\n",
       "│ …                              ┆     ┆           ┆          ┆                  ┆                 │\n",
       "│ binocular-frontend-new/src/plu ┆ 1   ┆ 1         ┆ 1        ┆ 30               ┆ 0               │\n",
       "│ …                              ┆     ┆           ┆          ┆                  ┆                 │\n",
       "│ binocular-frontend/src/visuali ┆ 1   ┆ 1         ┆ 1        ┆ 0                ┆ 0               │\n",
       "│ …                              ┆     ┆           ┆          ┆                  ┆                 │\n",
       "│ binocular-backend/cli/setup.ts ┆ 1   ┆ 1         ┆ 1        ┆ 0                ┆ 0               │\n",
       "│ binocular-frontend/src/visuali ┆ 1   ┆ 1         ┆ 1        ┆ 0                ┆ 0               │\n",
       "│ …                              ┆     ┆           ┆          ┆                  ┆                 │\n",
       "└────────────────────────────────┴─────┴───────────┴──────────┴──────────────────┴─────────────────┘"
      ]
     },
     "execution_count": 70,
     "metadata": {},
     "output_type": "execute_result"
    }
   ],
   "source": [
    "result = df.group_by(\"filename\").agg(\n",
    "        pl.len().alias(\"n\"),\n",
    "        pl.col(\"commit\").n_unique().alias(\"n_commits\"),\n",
    "        pl.col(\"parent\").n_unique().alias(\"n_parent\"),\n",
    "        pl.col(\"insertions\").sum().alias(\"total_insertions\"),\n",
    "        pl.col(\"deletions\").sum().alias(\"total_deletions\"),\n",
    "        # pl.first(\"last_name\"),  # Short for `pl.col(\"last_name\").first()`\n",
    ").sort(\"n\", descending=True)\n",
    "# .len(name=\"n\").sort(\"n\", descending=True)\n",
    "result.collect()"
   ]
  }
 ],
 "metadata": {
  "kernelspec": {
   "display_name": ".venv",
   "language": "python",
   "name": "python3"
  },
  "language_info": {
   "codemirror_mode": {
    "name": "ipython",
    "version": 3
   },
   "file_extension": ".py",
   "mimetype": "text/x-python",
   "name": "python",
   "nbconvert_exporter": "python",
   "pygments_lexer": "ipython3",
   "version": "3.13.2"
  }
 },
 "nbformat": 4,
 "nbformat_minor": 2
}
